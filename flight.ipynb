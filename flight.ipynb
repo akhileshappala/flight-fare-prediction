{
 "cells": [
  {
   "cell_type": "code",
   "execution_count": 1,
   "metadata": {},
   "outputs": [],
   "source": [
    "import os, io\n",
    "import numpy as np\n",
    "from pylab import *\n",
    "import pandas as pd\n",
    "from sklearn import preprocessing, svm, model_selection\n",
    "from sklearn.linear_model import LinearRegression, ElasticNet\n",
    "from sklearn.ensemble import RandomForestRegressor"
   ]
  },
  {
   "cell_type": "code",
   "execution_count": 7,
   "metadata": {},
   "outputs": [],
   "source": [
    "data = pd.read_csv(\"data.csv\")[['ITIN_ID', 'ORIGIN', 'ORIGIN_AIRPORT_ID', 'ORIGIN_STATE_ABR', 'ROUNDTRIP', 'ITIN_YIELD', 'ITIN_FARE', 'DISTANCE']]\n",
    "#data['ORIGIN'] = data['ORIGIN'].str.replace(',', '')\n",
    "#data['ORIGIN'] = data['ORIGIN'].convert_objects(convert_numeric=True)"
   ]
  },
  {
   "cell_type": "code",
   "execution_count": 8,
   "metadata": {},
   "outputs": [
    {
     "name": "stdout",
     "output_type": "stream",
     "text": [
      "   ITIN_ID ORIGIN  ORIGIN_AIRPORT_ID ORIGIN_STATE_ABR  ROUNDTRIP  ITIN_YIELD  \\\n",
      "0   201719    ABE              10135               PA        0.0      0.5482   \n",
      "1  2017110    ABE              10135               PA        0.0      0.8447   \n",
      "2  2017111    ABE              10135               PA        0.0      0.9153   \n",
      "3  2017112    ABE              10135               PA        1.0      0.2306   \n",
      "4  2017113    ABE              10135               PA        1.0      0.2306   \n",
      "\n",
      "   ITIN_FARE  DISTANCE  \n",
      "0      233.0     425.0  \n",
      "1      359.0     425.0  \n",
      "2      389.0     425.0  \n",
      "3      196.0     850.0  \n",
      "4      196.0     850.0  \n"
     ]
    }
   ],
   "source": [
    "print(data.head())"
   ]
  },
  {
   "cell_type": "code",
   "execution_count": null,
   "metadata": {
    "collapsed": true
   },
   "outputs": [],
   "source": []
  }
 ],
 "metadata": {
  "kernelspec": {
   "display_name": "Python 3",
   "language": "python",
   "name": "python3"
  },
  "language_info": {
   "codemirror_mode": {
    "name": "ipython",
    "version": 3
   },
   "file_extension": ".py",
   "mimetype": "text/x-python",
   "name": "python",
   "nbconvert_exporter": "python",
   "pygments_lexer": "ipython3",
   "version": "3.5.2"
  }
 },
 "nbformat": 4,
 "nbformat_minor": 2
}
