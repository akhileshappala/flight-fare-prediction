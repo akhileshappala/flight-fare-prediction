{
 "cells": [
  {
   "cell_type": "code",
   "execution_count": null,
   "metadata": {
    "collapsed": true
   },
   "outputs": [],
   "source": [
    "# These are all the modules required to prepare our machine learning algorithm.  We are using here K-Nearest Neighbour algorithm. \n",
    "\n",
    "import numpy as np\n",
    "import pandas as pd\n",
    "import matplotlib.pyplot as plt\n",
    "from sklearn.model_selection import train_test_split\n",
    "from sklearn.neighbors import KNeighborsClassifier\n",
    "\n",
    "# This line is to show plots inside the jupyter notebook.\n",
    "%matplotlib inline "
   ]
  },
  {
   "cell_type": "code",
   "execution_count": null,
   "metadata": {},
   "outputs": [],
   "source": [
    "# we are loading our data in a \"data\" variable.\n",
    "data = pd.read_csv(\"data/data.csv\")\n",
    "\n",
    "# from all the data we are just selecting \"ITIN_YIELD\" and \"DISTANCE\" column to use and saving these columns to \"source_data\"\n",
    "source_data = data[['ITIN_YIELD', 'DISTANCE']]\n",
    "\n",
    "# from those two column we are trying to predict \"ITIN_FARE\" column. So we are also saving the column in \"predicted_column\" variable\n",
    "predicted_column = data['ITIN_FARE']\n",
    "\n",
    "# with this line we are just showing first 5 line of our all data\n",
    "data.head()"
   ]
  },
  {
   "cell_type": "code",
   "execution_count": 7,
   "metadata": {},
   "outputs": [
    {
     "data": {
      "text/plain": [
       "KNeighborsClassifier(algorithm='auto', leaf_size=30, metric='minkowski',\n",
       "           metric_params=None, n_jobs=1, n_neighbors=1, p=2,\n",
       "           weights='uniform')"
      ]
     },
     "execution_count": 7,
     "metadata": {},
     "output_type": "execute_result"
    }
   ],
   "source": [
    "# inside the \"train_test_split()\" we are providing our data. And populating our X_train, Y_train, X_test and Y_test variables\n",
    "# X_train variable contains the data of  our training \"source_data\" \n",
    "# X_test variable contains the data of  our testing \"sourse_data\"\n",
    "# Y_train variable contains the data of  our training \"predicted_column\"\n",
    "# Y_test variable contains the data of  our testing \"predicted_column\"\n",
    "\n",
    "X_train, X_test, y_train, y_test = train_test_split(source_data, predicted_column, random_state=42)\n",
    "\n",
    "\n",
    "# we are loading our algorithm in \"forest\" variable\n",
    "knn = KNeighborsClassifier(n_neighbors=1)\n",
    "\n",
    "\n",
    "# we are telling our algorithm to train from our training dataset\n",
    "knn.fit(X_train, y_train)"
   ]
  },
  {
   "cell_type": "code",
   "execution_count": 8,
   "metadata": {},
   "outputs": [
    {
     "name": "stdout",
     "output_type": "stream",
     "text": [
      "Source data shape and size: (3529905, 2)\n",
      "Training source_data shape and size: (2647428, 2)\n",
      "Testing source_data shape and size: (882477, 2)\n"
     ]
    }
   ],
   "source": [
    "# its just the shape and size of our source data set.  \n",
    "\n",
    "print(\"Source data shape and size: {}\".format(source_data.shape))\n",
    "print(\"Training source_data shape and size: {}\".format(X_train.shape))\n",
    "print(\"Testing source_data shape and size: {}\".format(X_test.shape))"
   ]
  },
  {
   "cell_type": "code",
   "execution_count": 9,
   "metadata": {},
   "outputs": [
    {
     "name": "stdout",
     "output_type": "stream",
     "text": [
      "Prediction: [ 196.]\n"
     ]
    }
   ],
   "source": [
    "# Now we are trying to predict our estimated fare from by giving our algorithm some value. And we can see that, its trying to predict.\n",
    "\n",
    "X_new = np.array([[0.2306, 850.0]])\n",
    "prediction = knn.predict(X_new)\n",
    "print(\"Prediction: {}\".format(prediction))"
   ]
  },
  {
   "cell_type": "code",
   "execution_count": 10,
   "metadata": {},
   "outputs": [
    {
     "name": "stdout",
     "output_type": "stream",
     "text": [
      "Test set predictions:\n",
      " [ 479.  273.  357. ...,  688.  148.  612.]\n"
     ]
    }
   ],
   "source": [
    "# Now we are giving our algorithm our test data set. So that, it can try to predict the values of test data also.\n",
    "\n",
    "y_pred = knn.predict(X_test)\n",
    "print(\"Test set predictions:\\n {}\".format(y_pred))"
   ]
  },
  {
   "cell_type": "code",
   "execution_count": 12,
   "metadata": {},
   "outputs": [
    {
     "name": "stdout",
     "output_type": "stream",
     "text": [
      "Accuracy on training set: 0.998\n",
      "Accuracy on test set: 0.644\n"
     ]
    }
   ],
   "source": [
    "# Here are we are trying to watch our prediction score. How much it can learn from our training and testing data.\n",
    "\n",
    "print(\"Accuracy on training set: {:.3f}\".format(knn.score(X_train, y_train)))\n",
    "print(\"Accuracy on test set: {:.3f}\".format(knn.score(X_test, y_test)))"
   ]
  },
  {
   "cell_type": "code",
   "execution_count": null,
   "metadata": {
    "collapsed": true
   },
   "outputs": [],
   "source": []
  }
 ],
 "metadata": {
  "kernelspec": {
   "display_name": "Python 3",
   "language": "python",
   "name": "python3"
  }
 },
 "nbformat": 4,
 "nbformat_minor": 2
}
