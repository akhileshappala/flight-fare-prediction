{
 "cells": [
  {
   "cell_type": "code",
   "execution_count": null,
   "metadata": {},
   "outputs": [],
   "source": [
    "# These are all the modules required to prepare our machine learning algorithm.  We are using here Random Forest Regression algorithm. \n",
    "\n",
    "import numpy as np\n",
    "import pandas as pd\n",
    "import matplotlib.pyplot as plt\n",
    "from sklearn.model_selection import train_test_split\n",
    "from sklearn.ensemble import GradientBoostingRegressor\n",
    "\n",
    "\n",
    "# This line is to show plots inside the jupyter notebook.\n",
    "%matplotlib inline"
   ]
  },
  {
   "cell_type": "code",
   "execution_count": null,
   "metadata": {},
   "outputs": [],
   "source": [
    "from sklearn import metrics   #Additional scklearn functions\n",
    "from sklearn.grid_search import GridSearchCV   #Perforing grid search"
   ]
  },
  {
   "cell_type": "code",
   "execution_count": null,
   "metadata": {},
   "outputs": [],
   "source": [
    "# import savReaderWriter as spss\n",
    "\n",
    "# we are loading our data in a \"data\" variable.\n",
    "data = pd.read_csv(\"data/data_aa.csv\")\n",
    "# data = spss.SavReader('data/data.csv', returnHeader = True) # This is fast\n",
    "\n",
    "# from all the data we are just selecting \"ITIN_YIELD\" and \"DISTANCE\" column to use and saving these columns to \"source_data\"\n",
    "source_data = data[['ITIN_YIELD', 'DISTANCE']]\n",
    "\n",
    "# from those two column we are trying to predict \"ITIN_FARE\" column. So we are also saving the column in \"predicted_column\" variable\n",
    "predicted_column = data['ITIN_FARE']\n",
    "\n",
    "# with this line we are just showing first 5 line of our all data\n",
    "data.head()"
   ]
  },
  {
   "cell_type": "code",
   "execution_count": null,
   "metadata": {},
   "outputs": [],
   "source": [
    "# inside the \"train_test_split()\" we are providing our data. And populating our X_train, Y_train, X_test and Y_test variables\n",
    "# X_train variable contains the data of  our training \"source_data\" \n",
    "# X_test variable contains the data of  our testing \"sourse_data\"\n",
    "# Y_train variable contains the data of  our training \"predicted_column\"\n",
    "# Y_test variable contains the data of  our testing \"predicted_column\"\n",
    "\n",
    "X_train, X_test, y_train, y_test = train_test_split(source_data, predicted_column, random_state=42)\n",
    "\n",
    "\n",
    "# we are loading our algorithm in \"forest\" variable\n",
    "gbr = GradientBoostingRegressor(random_state=10)\n",
    "\n",
    "# we are telling our algorithm to train from our training dataset\n",
    "gbr.fit(X_train, y_train)"
   ]
  },
  {
   "cell_type": "code",
   "execution_count": null,
   "metadata": {},
   "outputs": [],
   "source": [
    "# Now we are trying to predict our estimated fare from by giving our algorithm some value. And we can see that, its trying to predict.\n",
    "\n",
    "X_new = np.array([[0.2306, 850.0]])\n",
    "prediction = gbr.predict(X_new)\n",
    "print(\"Prediction: {}\".format(prediction))"
   ]
  },
  {
   "cell_type": "code",
   "execution_count": null,
   "metadata": {},
   "outputs": [],
   "source": [
    "# Now we are giving our algorithm our test data set. So that, it can try to predict the values of test data also.\n",
    "\n",
    "y_pred = gbr.predict(X_test)\n",
    "print(\"Test set predictions:\\n {}\".format(y_pred))"
   ]
  },
  {
   "cell_type": "code",
   "execution_count": null,
   "metadata": {},
   "outputs": [],
   "source": [
    "# Here are we are trying to watch our prediction score. How much it can learn from our training and testing data.\n",
    "\n",
    "print(\"Accuracy on training set: {:.3f}\".format(gbr.score(X_train, y_train)))\n",
    "print(\"Accuracy on test set: {:.3f}\".format(gbr.score(X_test, y_test)))"
   ]
  },
  {
   "cell_type": "code",
   "execution_count": null,
   "metadata": {},
   "outputs": [],
   "source": []
  }
 ],
 "metadata": {
  "kernelspec": {
   "display_name": "Python 3",
   "language": "python",
   "name": "python3"
  },
  "language_info": {
   "codemirror_mode": {
    "name": "ipython",
    "version": 3
   },
   "file_extension": ".py",
   "mimetype": "text/x-python",
   "name": "python",
   "nbconvert_exporter": "python",
   "pygments_lexer": "ipython3",
   "version": "3.6.4"
  }
 },
 "nbformat": 4,
 "nbformat_minor": 2
}
