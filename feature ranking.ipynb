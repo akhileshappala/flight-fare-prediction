{
 "cells": [
  {
   "cell_type": "code",
   "execution_count": 2,
   "metadata": {
    "collapsed": true
   },
   "outputs": [],
   "source": [
    "import pandas as pd\n",
    "import numpy as np\n",
    "from matplotlib import pyplot as plt\n",
    "import seaborn as sns\n",
    "%matplotlib inline\n",
    "from sklearn.feature_selection import RFE, f_regression\n",
    "from sklearn.linear_model import (LinearRegression, Ridge, Lasso, RandomizedLasso)\n",
    "from sklearn.preprocessing import MinMaxScaler\n",
    "from sklearn.ensemble import RandomForestRegressor"
   ]
  },
  {
   "cell_type": "code",
   "execution_count": 3,
   "metadata": {},
   "outputs": [],
   "source": [
    "data = pd.read_csv(\"./data/data_aa.csv\")\n",
    "# data.head()"
   ]
  },
  {
   "cell_type": "code",
   "execution_count": 4,
   "metadata": {},
   "outputs": [
    {
     "name": "stdout",
     "output_type": "stream",
     "text": [
      "ITIN_ID                  False\n",
      "COUPONS                  False\n",
      "YEAR                     False\n",
      "QUARTER                  False\n",
      "ORIGIN                   False\n",
      "ORIGIN_AIRPORT_ID        False\n",
      "ORIGIN_AIRPORT_SEQ_ID    False\n",
      "ORIGIN_CITY_MARKET_ID    False\n",
      "ORIGIN_COUNTRY           False\n",
      "ORIGIN_STATE_FIPS        False\n",
      "ORIGIN_STATE_ABR         False\n",
      "ORIGIN_STATE_NM          False\n",
      "ORIGIN_WAC               False\n",
      "ROUNDTRIP                False\n",
      "ONLINE                   False\n",
      "DOLLAR_CRED              False\n",
      "ITIN_YIELD               False\n",
      "REPORTING_CARRIER        False\n",
      "PASSENGERS               False\n",
      "ITIN_FARE                False\n",
      "BULK_FARE                False\n",
      "DISTANCE                 False\n",
      "DISTANCE_GROUP           False\n",
      "MILES_FLOWN              False\n",
      "ITIN_GEO_TYPE            False\n",
      "Unnamed: 25               True\n",
      "dtype: bool\n",
      "ITIN_ID                    int64\n",
      "COUPONS                    int64\n",
      "YEAR                       int64\n",
      "QUARTER                    int64\n",
      "ORIGIN                    object\n",
      "ORIGIN_AIRPORT_ID          int64\n",
      "ORIGIN_AIRPORT_SEQ_ID      int64\n",
      "ORIGIN_CITY_MARKET_ID      int64\n",
      "ORIGIN_COUNTRY            object\n",
      "ORIGIN_STATE_FIPS          int64\n",
      "ORIGIN_STATE_ABR          object\n",
      "ORIGIN_STATE_NM           object\n",
      "ORIGIN_WAC                 int64\n",
      "ROUNDTRIP                float64\n",
      "ONLINE                   float64\n",
      "DOLLAR_CRED                int64\n",
      "ITIN_YIELD               float64\n",
      "REPORTING_CARRIER         object\n",
      "PASSENGERS               float64\n",
      "ITIN_FARE                float64\n",
      "BULK_FARE                float64\n",
      "DISTANCE                 float64\n",
      "DISTANCE_GROUP             int64\n",
      "MILES_FLOWN              float64\n",
      "ITIN_GEO_TYPE              int64\n",
      "Unnamed: 25              float64\n",
      "dtype: object\n"
     ]
    }
   ],
   "source": [
    "# Looking for nulls\n",
    "print(data.isnull().any())\n",
    "# Inspecting type\n",
    "print(data.dtypes)"
   ]
  },
  {
   "cell_type": "code",
   "execution_count": 5,
   "metadata": {
    "collapsed": true
   },
   "outputs": [],
   "source": [
    "# Dropping the id and date columns\n",
    "data = data.drop(['ITIN_ID'],axis=1)"
   ]
  },
  {
   "cell_type": "code",
   "execution_count": 6,
   "metadata": {},
   "outputs": [
    {
     "name": "stderr",
     "output_type": "stream",
     "text": [
      "IOPub data rate exceeded.\n",
      "The notebook server will temporarily stop sending output\n",
      "to the client in order to avoid crashing it.\n",
      "To change this limit, set the config variable\n",
      "`--NotebookApp.iopub_data_rate_limit`.\n"
     ]
    }
   ],
   "source": [
    "with sns.plotting_context(\"notebook\",font_scale=2.5):\n",
    "    g = sns.pairplot(data[['COUPONS', 'YEAR', 'ORIGIN_STATE_FIPS', 'ROUNDTRIP', 'ONLINE', 'DOLLAR_CRED', 'ITIN_FARE', 'ITIN_YIELD','DISTANCE']], \n",
    "                 hue='ITIN_FARE', palette='tab20',size=6)\n",
    "g.set(xticklabels=[]);"
   ]
  },
  {
   "cell_type": "code",
   "execution_count": null,
   "metadata": {
    "collapsed": true
   },
   "outputs": [],
   "source": []
  }
 ],
 "metadata": {
  "kernelspec": {
   "display_name": "Python 3",
   "language": "python",
   "name": "python3"
  },
  "language_info": {
   "codemirror_mode": {
    "name": "ipython",
    "version": 3
   },
   "file_extension": ".py",
   "mimetype": "text/x-python",
   "name": "python",
   "nbconvert_exporter": "python",
   "pygments_lexer": "ipython3",
   "version": "3.5.2"
  }
 },
 "nbformat": 4,
 "nbformat_minor": 2
}
